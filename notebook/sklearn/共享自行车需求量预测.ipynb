{
 "cells": [
  {
   "cell_type": "code",
   "execution_count": 1,
   "metadata": {},
   "outputs": [],
   "source": [
    "import numpy as np\n",
    "import pandas as pd\n",
    "from sklearn.preprocessing import LabelBinarizer\n",
    "from sklearn.model_selection import train_test_split"
   ]
  },
  {
   "cell_type": "code",
   "execution_count": 2,
   "metadata": {},
   "outputs": [],
   "source": [
    "path = '../../../MyDataSets/回归数据集/Bike-Sharing-Dataset/day.csv'\n",
    "\n",
    "df = pd.read_csv(path)"
   ]
  },
  {
   "cell_type": "code",
   "execution_count": 136,
   "metadata": {},
   "outputs": [
    {
     "data": {
      "text/html": [
       "<div>\n",
       "<style scoped>\n",
       "    .dataframe tbody tr th:only-of-type {\n",
       "        vertical-align: middle;\n",
       "    }\n",
       "\n",
       "    .dataframe tbody tr th {\n",
       "        vertical-align: top;\n",
       "    }\n",
       "\n",
       "    .dataframe thead th {\n",
       "        text-align: right;\n",
       "    }\n",
       "</style>\n",
       "<table border=\"1\" class=\"dataframe\">\n",
       "  <thead>\n",
       "    <tr style=\"text-align: right;\">\n",
       "      <th></th>\n",
       "      <th>instant</th>\n",
       "      <th>dteday</th>\n",
       "      <th>season</th>\n",
       "      <th>yr</th>\n",
       "      <th>mnth</th>\n",
       "      <th>holiday</th>\n",
       "      <th>weekday</th>\n",
       "      <th>workingday</th>\n",
       "      <th>weathersit</th>\n",
       "      <th>temp</th>\n",
       "      <th>atemp</th>\n",
       "      <th>hum</th>\n",
       "      <th>windspeed</th>\n",
       "      <th>casual</th>\n",
       "      <th>registered</th>\n",
       "      <th>cnt</th>\n",
       "    </tr>\n",
       "  </thead>\n",
       "  <tbody>\n",
       "    <tr>\n",
       "      <th>0</th>\n",
       "      <td>1</td>\n",
       "      <td>2011-01-01</td>\n",
       "      <td>1</td>\n",
       "      <td>0</td>\n",
       "      <td>1</td>\n",
       "      <td>0</td>\n",
       "      <td>6</td>\n",
       "      <td>0</td>\n",
       "      <td>2</td>\n",
       "      <td>0.344167</td>\n",
       "      <td>0.363625</td>\n",
       "      <td>0.805833</td>\n",
       "      <td>0.160446</td>\n",
       "      <td>331</td>\n",
       "      <td>654</td>\n",
       "      <td>985</td>\n",
       "    </tr>\n",
       "    <tr>\n",
       "      <th>1</th>\n",
       "      <td>2</td>\n",
       "      <td>2011-01-02</td>\n",
       "      <td>1</td>\n",
       "      <td>0</td>\n",
       "      <td>1</td>\n",
       "      <td>0</td>\n",
       "      <td>0</td>\n",
       "      <td>0</td>\n",
       "      <td>2</td>\n",
       "      <td>0.363478</td>\n",
       "      <td>0.353739</td>\n",
       "      <td>0.696087</td>\n",
       "      <td>0.248539</td>\n",
       "      <td>131</td>\n",
       "      <td>670</td>\n",
       "      <td>801</td>\n",
       "    </tr>\n",
       "    <tr>\n",
       "      <th>2</th>\n",
       "      <td>3</td>\n",
       "      <td>2011-01-03</td>\n",
       "      <td>1</td>\n",
       "      <td>0</td>\n",
       "      <td>1</td>\n",
       "      <td>0</td>\n",
       "      <td>1</td>\n",
       "      <td>1</td>\n",
       "      <td>1</td>\n",
       "      <td>0.196364</td>\n",
       "      <td>0.189405</td>\n",
       "      <td>0.437273</td>\n",
       "      <td>0.248309</td>\n",
       "      <td>120</td>\n",
       "      <td>1229</td>\n",
       "      <td>1349</td>\n",
       "    </tr>\n",
       "    <tr>\n",
       "      <th>3</th>\n",
       "      <td>4</td>\n",
       "      <td>2011-01-04</td>\n",
       "      <td>1</td>\n",
       "      <td>0</td>\n",
       "      <td>1</td>\n",
       "      <td>0</td>\n",
       "      <td>2</td>\n",
       "      <td>1</td>\n",
       "      <td>1</td>\n",
       "      <td>0.200000</td>\n",
       "      <td>0.212122</td>\n",
       "      <td>0.590435</td>\n",
       "      <td>0.160296</td>\n",
       "      <td>108</td>\n",
       "      <td>1454</td>\n",
       "      <td>1562</td>\n",
       "    </tr>\n",
       "    <tr>\n",
       "      <th>4</th>\n",
       "      <td>5</td>\n",
       "      <td>2011-01-05</td>\n",
       "      <td>1</td>\n",
       "      <td>0</td>\n",
       "      <td>1</td>\n",
       "      <td>0</td>\n",
       "      <td>3</td>\n",
       "      <td>1</td>\n",
       "      <td>1</td>\n",
       "      <td>0.226957</td>\n",
       "      <td>0.229270</td>\n",
       "      <td>0.436957</td>\n",
       "      <td>0.186900</td>\n",
       "      <td>82</td>\n",
       "      <td>1518</td>\n",
       "      <td>1600</td>\n",
       "    </tr>\n",
       "  </tbody>\n",
       "</table>\n",
       "</div>"
      ],
      "text/plain": [
       "   instant      dteday  season  yr  mnth  holiday  weekday  workingday  \\\n",
       "0        1  2011-01-01       1   0     1        0        6           0   \n",
       "1        2  2011-01-02       1   0     1        0        0           0   \n",
       "2        3  2011-01-03       1   0     1        0        1           1   \n",
       "3        4  2011-01-04       1   0     1        0        2           1   \n",
       "4        5  2011-01-05       1   0     1        0        3           1   \n",
       "\n",
       "   weathersit      temp     atemp       hum  windspeed  casual  registered  \\\n",
       "0           2  0.344167  0.363625  0.805833   0.160446     331         654   \n",
       "1           2  0.363478  0.353739  0.696087   0.248539     131         670   \n",
       "2           1  0.196364  0.189405  0.437273   0.248309     120        1229   \n",
       "3           1  0.200000  0.212122  0.590435   0.160296     108        1454   \n",
       "4           1  0.226957  0.229270  0.436957   0.186900      82        1518   \n",
       "\n",
       "    cnt  \n",
       "0   985  \n",
       "1   801  \n",
       "2  1349  \n",
       "3  1562  \n",
       "4  1600  "
      ]
     },
     "execution_count": 136,
     "metadata": {},
     "output_type": "execute_result"
    }
   ],
   "source": [
    "df.head()"
   ]
  },
  {
   "cell_type": "markdown",
   "metadata": {},
   "source": [
    "### 1.选择所需要的特征列\n",
    "### 2.拆分数据集\n",
    "### 3.数据预处理\n",
    "### 4.模型训练\n",
    "### 5.模型评估"
   ]
  },
  {
   "cell_type": "code",
   "execution_count": 3,
   "metadata": {},
   "outputs": [],
   "source": [
    "data = df.rename(columns={\n",
    "    'yr':'year',\n",
    "    'mnth':'month',\n",
    "    'holiday':'isholiday',\n",
    "    'workingday':'isworkingday',\n",
    "    'weathersit':'weather',\n",
    "    'cnt':'total'\n",
    "})\n",
    "\n",
    "myfeaturename = ['season','year','month','isholiday','weekday','isworkingday','weather','temp','atemp','hum','windspeed']\n",
    "\n",
    "x_train,x_test,y_train,y_test = train_test_split(data[myfeaturename],data.total,random_state=42)"
   ]
  },
  {
   "cell_type": "code",
   "execution_count": 243,
   "metadata": {},
   "outputs": [
    {
     "data": {
      "text/html": [
       "<div>\n",
       "<style scoped>\n",
       "    .dataframe tbody tr th:only-of-type {\n",
       "        vertical-align: middle;\n",
       "    }\n",
       "\n",
       "    .dataframe tbody tr th {\n",
       "        vertical-align: top;\n",
       "    }\n",
       "\n",
       "    .dataframe thead th {\n",
       "        text-align: right;\n",
       "    }\n",
       "</style>\n",
       "<table border=\"1\" class=\"dataframe\">\n",
       "  <thead>\n",
       "    <tr style=\"text-align: right;\">\n",
       "      <th></th>\n",
       "      <th>season</th>\n",
       "      <th>year</th>\n",
       "      <th>month</th>\n",
       "      <th>isholiday</th>\n",
       "      <th>weekday</th>\n",
       "      <th>isworkingday</th>\n",
       "      <th>weather</th>\n",
       "      <th>temp</th>\n",
       "      <th>atemp</th>\n",
       "      <th>hum</th>\n",
       "      <th>windspeed</th>\n",
       "    </tr>\n",
       "  </thead>\n",
       "  <tbody>\n",
       "    <tr>\n",
       "      <th>688</th>\n",
       "      <td>4</td>\n",
       "      <td>1</td>\n",
       "      <td>11</td>\n",
       "      <td>0</td>\n",
       "      <td>1</td>\n",
       "      <td>1</td>\n",
       "      <td>2</td>\n",
       "      <td>0.380833</td>\n",
       "      <td>0.375621</td>\n",
       "      <td>0.623333</td>\n",
       "      <td>0.235067</td>\n",
       "    </tr>\n",
       "    <tr>\n",
       "      <th>649</th>\n",
       "      <td>4</td>\n",
       "      <td>1</td>\n",
       "      <td>10</td>\n",
       "      <td>0</td>\n",
       "      <td>4</td>\n",
       "      <td>1</td>\n",
       "      <td>1</td>\n",
       "      <td>0.435000</td>\n",
       "      <td>0.431167</td>\n",
       "      <td>0.463333</td>\n",
       "      <td>0.181596</td>\n",
       "    </tr>\n",
       "    <tr>\n",
       "      <th>637</th>\n",
       "      <td>4</td>\n",
       "      <td>1</td>\n",
       "      <td>9</td>\n",
       "      <td>0</td>\n",
       "      <td>6</td>\n",
       "      <td>0</td>\n",
       "      <td>1</td>\n",
       "      <td>0.542500</td>\n",
       "      <td>0.530296</td>\n",
       "      <td>0.542917</td>\n",
       "      <td>0.227604</td>\n",
       "    </tr>\n",
       "    <tr>\n",
       "      <th>525</th>\n",
       "      <td>2</td>\n",
       "      <td>1</td>\n",
       "      <td>6</td>\n",
       "      <td>0</td>\n",
       "      <td>6</td>\n",
       "      <td>0</td>\n",
       "      <td>1</td>\n",
       "      <td>0.710833</td>\n",
       "      <td>0.648367</td>\n",
       "      <td>0.437083</td>\n",
       "      <td>0.144287</td>\n",
       "    </tr>\n",
       "    <tr>\n",
       "      <th>367</th>\n",
       "      <td>1</td>\n",
       "      <td>1</td>\n",
       "      <td>1</td>\n",
       "      <td>0</td>\n",
       "      <td>2</td>\n",
       "      <td>1</td>\n",
       "      <td>1</td>\n",
       "      <td>0.150000</td>\n",
       "      <td>0.126275</td>\n",
       "      <td>0.441250</td>\n",
       "      <td>0.365671</td>\n",
       "    </tr>\n",
       "  </tbody>\n",
       "</table>\n",
       "</div>"
      ],
      "text/plain": [
       "     season  year  month  isholiday  weekday  isworkingday  weather      temp  \\\n",
       "688       4     1     11          0        1             1        2  0.380833   \n",
       "649       4     1     10          0        4             1        1  0.435000   \n",
       "637       4     1      9          0        6             0        1  0.542500   \n",
       "525       2     1      6          0        6             0        1  0.710833   \n",
       "367       1     1      1          0        2             1        1  0.150000   \n",
       "\n",
       "        atemp       hum  windspeed  \n",
       "688  0.375621  0.623333   0.235067  \n",
       "649  0.431167  0.463333   0.181596  \n",
       "637  0.530296  0.542917   0.227604  \n",
       "525  0.648367  0.437083   0.144287  \n",
       "367  0.126275  0.441250   0.365671  "
      ]
     },
     "execution_count": 243,
     "metadata": {},
     "output_type": "execute_result"
    }
   ],
   "source": [
    "x_train.head()"
   ]
  },
  {
   "cell_type": "code",
   "execution_count": 244,
   "metadata": {},
   "outputs": [
    {
     "data": {
      "text/plain": [
       "(548, 11)"
      ]
     },
     "execution_count": 244,
     "metadata": {},
     "output_type": "execute_result"
    }
   ],
   "source": [
    "x_train.shape"
   ]
  },
  {
   "cell_type": "code",
   "execution_count": 6,
   "metadata": {},
   "outputs": [],
   "source": [
    "cat_featurename = ['season','year','month','weekday','weather']\n",
    "\n",
    "tranfer_result = fix_tranform_oht(x_train,cat_featurename)"
   ]
  },
  {
   "cell_type": "code",
   "execution_count": 7,
   "metadata": {},
   "outputs": [],
   "source": [
    "x_train_deal = x_train.reset_index() #索引要重排一下\n",
    "x_train_deal.drop(\"index\",axis=1,inplace=True)\n",
    "for i in tranfer_result:\n",
    "    if i in cat_featurename:\n",
    "        x_train_deal = pd.concat([x_train_deal,tranfer_result[i]],axis=1)"
   ]
  },
  {
   "cell_type": "code",
   "execution_count": 8,
   "metadata": {
    "scrolled": true
   },
   "outputs": [],
   "source": [
    "#x = [i for i in x_train_deal.columns if i not in myfeaturename]\n",
    "x_train_ready =  x_train_deal[[i for i in x_train_deal.columns if i not in cat_featurename]]"
   ]
  },
  {
   "cell_type": "code",
   "execution_count": 9,
   "metadata": {},
   "outputs": [],
   "source": [
    "from sklearn.tree import DecisionTreeRegressor\n",
    "from sklearn.model_selection import cross_val_score"
   ]
  },
  {
   "cell_type": "code",
   "execution_count": 258,
   "metadata": {},
   "outputs": [
    {
     "name": "stdout",
     "output_type": "stream",
     "text": [
      "决策树模型score= 1.0\n",
      "决策树模型十折:r2_score= [0.8255097  0.73808665 0.70182511 0.79982673 0.58754349 0.70251554\n",
      " 0.59225168 0.70751163 0.71326858 0.69574538]\n",
      "决策树模型十折rmse_score= 992.4252483837921\n"
     ]
    }
   ],
   "source": [
    "tree_estimator = DecisionTreeRegressor()\n",
    "tree_estimator.fit(x_train_ready,y_train)\n",
    "\n",
    "score = tree_estimator.score(x_train_ready,y_train)\n",
    "r2_score = cross_val_score(tree_estimator,x_train_ready,y=y_train,cv=10)\n",
    "mse_score = cross_val_score(tree_estimator,x_train_ready,y=y_train,cv=10,scoring=\"neg_mean_squared_error\")\n",
    "print(\"决策树模型score=\",score)\n",
    "print(\"决策树模型十折:r2_score=\",r2_score)\n",
    "print(\"决策树模型十折rmse_score=\",np.mean(np.sqrt(-mse_score)))"
   ]
  },
  {
   "cell_type": "code",
   "execution_count": 252,
   "metadata": {},
   "outputs": [
    {
     "data": {
      "text/plain": [
       "array([0.86775828, 0.85534066, 0.83366121, 0.90132518, 0.79705795,\n",
       "       0.8566601 , 0.78494777, 0.81804918, 0.89162369, 0.88821899])"
      ]
     },
     "execution_count": 252,
     "metadata": {},
     "output_type": "execute_result"
    }
   ],
   "source": [
    "score"
   ]
  },
  {
   "cell_type": "code",
   "execution_count": 10,
   "metadata": {},
   "outputs": [
    {
     "name": "stdout",
     "output_type": "stream",
     "text": [
      "随机森林模型score= 0.9811402269627536\n",
      "随机森林模型十折:r2_score= [0.86609529 0.86546247 0.83243836 0.91171018 0.80417854 0.85296081\n",
      " 0.78231297 0.82849463 0.89615888 0.88179069]\n"
     ]
    }
   ],
   "source": [
    "from sklearn.ensemble import RandomForestRegressor\n",
    "\n",
    "RF_estimator = RandomForestRegressor()\n",
    "RF_estimator.fit(x_train_ready,y_train)\n",
    "\n",
    "score = RF_estimator.score(x_train_ready,y_train)\n",
    "\n",
    "r2_score = cross_val_score(RF_estimator,x_train_ready,y=y_train,cv=10)\n",
    "#mse_score = cross_val_score(RF_estimator,x_train_ready,y=y_train,cv=10,scoring=\"neg_mean_squared_error\")\n",
    "print(\"随机森林模型score=\",score)\n",
    "print(\"随机森林模型十折:r2_score=\",r2_score)\n",
    "#print(\"决策树模型十折rmse_score=\",np.mean(np.sqrt(-mse_score)))"
   ]
  },
  {
   "cell_type": "markdown",
   "metadata": {},
   "source": [
    "### 有模型了，开始对测试集进行预测\n",
    "### 先对测试集数据进行预处理"
   ]
  },
  {
   "cell_type": "code",
   "execution_count": 11,
   "metadata": {},
   "outputs": [],
   "source": [
    "def fx(df,dic_onehot):\n",
    "    dic_temp = {}\n",
    "    for i in dic_onehot:\n",
    "        if 'scaler_' in i:\n",
    "            scaler = dic_onehot[i]\n",
    "            col_name = i.split('_')[1]\n",
    "            feature_arr = scaler.fit_transform(df[[col_name]])\n",
    "            if feature_arr.shape[1] > 1:        \n",
    "                fearure_labels = ['is_'+col_name+'_'+str(cls_label) for cls_label in scaler.classes_]\n",
    "            else:\n",
    "                fearure_labels = ['is_'+col_name]    \n",
    "            df_new = pd.DataFrame(data=feature_arr,columns=fearure_labels)\n",
    "            dic_temp[str(col_name)]=df_new\n",
    "    return dic_temp"
   ]
  },
  {
   "cell_type": "code",
   "execution_count": 12,
   "metadata": {},
   "outputs": [],
   "source": [
    "x_test_onehot = fx(x_test,tranfer_result)\n",
    "\n",
    "x_test_deal = x_test.reset_index() #索引要重排一下\n",
    "x_test_deal.drop(\"index\",axis=1,inplace=True)\n",
    "for i in x_test_onehot:\n",
    "    if i in cat_featurename:\n",
    "        x_test_deal = pd.concat([x_test_deal,x_test_onehot[i]],axis=1)"
   ]
  },
  {
   "cell_type": "code",
   "execution_count": 13,
   "metadata": {},
   "outputs": [],
   "source": [
    "x_test_ready =  x_test_deal[[i for i in x_test_deal.columns if i not in cat_featurename]]"
   ]
  },
  {
   "cell_type": "markdown",
   "metadata": {},
   "source": [
    "### 终于开始预测啦啦啦！\n"
   ]
  },
  {
   "cell_type": "code",
   "execution_count": 14,
   "metadata": {},
   "outputs": [],
   "source": [
    "y_predict = RF_estimator.predict(x_test_ready)"
   ]
  },
  {
   "cell_type": "code",
   "execution_count": 15,
   "metadata": {},
   "outputs": [
    {
     "data": {
      "text/plain": [
       "0.8926741547794967"
      ]
     },
     "execution_count": 15,
     "metadata": {},
     "output_type": "execute_result"
    }
   ],
   "source": [
    "RF_estimator.score(x_test_ready,y_test)"
   ]
  },
  {
   "cell_type": "code",
   "execution_count": null,
   "metadata": {},
   "outputs": [],
   "source": []
  },
  {
   "cell_type": "code",
   "execution_count": 16,
   "metadata": {},
   "outputs": [],
   "source": [
    "from sklearn.metrics import mean_squared_error"
   ]
  },
  {
   "cell_type": "code",
   "execution_count": 17,
   "metadata": {},
   "outputs": [
    {
     "data": {
      "text/plain": [
       "643.1381872480605"
      ]
     },
     "execution_count": 17,
     "metadata": {},
     "output_type": "execute_result"
    }
   ],
   "source": [
    "rmse = np.sqrt(mean_squared_error(y_test,y_predict))\n",
    "rmse"
   ]
  },
  {
   "cell_type": "code",
   "execution_count": 52,
   "metadata": {
    "scrolled": true
   },
   "outputs": [
    {
     "data": {
      "text/html": [
       "<div>\n",
       "<style scoped>\n",
       "    .dataframe tbody tr th:only-of-type {\n",
       "        vertical-align: middle;\n",
       "    }\n",
       "\n",
       "    .dataframe tbody tr th {\n",
       "        vertical-align: top;\n",
       "    }\n",
       "\n",
       "    .dataframe thead th {\n",
       "        text-align: right;\n",
       "    }\n",
       "</style>\n",
       "<table border=\"1\" class=\"dataframe\">\n",
       "  <thead>\n",
       "    <tr style=\"text-align: right;\">\n",
       "      <th></th>\n",
       "      <th>真实值</th>\n",
       "      <th>预测值</th>\n",
       "      <th>差值</th>\n",
       "    </tr>\n",
       "  </thead>\n",
       "  <tbody>\n",
       "    <tr>\n",
       "      <th>0</th>\n",
       "      <td>6606.0</td>\n",
       "      <td>6529.81</td>\n",
       "      <td>76.19</td>\n",
       "    </tr>\n",
       "    <tr>\n",
       "      <th>1</th>\n",
       "      <td>1550.0</td>\n",
       "      <td>1575.48</td>\n",
       "      <td>-25.48</td>\n",
       "    </tr>\n",
       "    <tr>\n",
       "      <th>2</th>\n",
       "      <td>3747.0</td>\n",
       "      <td>3440.02</td>\n",
       "      <td>306.98</td>\n",
       "    </tr>\n",
       "    <tr>\n",
       "      <th>3</th>\n",
       "      <td>6041.0</td>\n",
       "      <td>4954.73</td>\n",
       "      <td>1086.27</td>\n",
       "    </tr>\n",
       "    <tr>\n",
       "      <th>4</th>\n",
       "      <td>7538.0</td>\n",
       "      <td>7624.75</td>\n",
       "      <td>-86.75</td>\n",
       "    </tr>\n",
       "    <tr>\n",
       "      <th>5</th>\n",
       "      <td>7264.0</td>\n",
       "      <td>7391.46</td>\n",
       "      <td>-127.46</td>\n",
       "    </tr>\n",
       "    <tr>\n",
       "      <th>6</th>\n",
       "      <td>1605.0</td>\n",
       "      <td>1461.17</td>\n",
       "      <td>143.83</td>\n",
       "    </tr>\n",
       "    <tr>\n",
       "      <th>7</th>\n",
       "      <td>2209.0</td>\n",
       "      <td>2070.44</td>\n",
       "      <td>138.56</td>\n",
       "    </tr>\n",
       "    <tr>\n",
       "      <th>8</th>\n",
       "      <td>7499.0</td>\n",
       "      <td>6913.96</td>\n",
       "      <td>585.04</td>\n",
       "    </tr>\n",
       "    <tr>\n",
       "      <th>9</th>\n",
       "      <td>5743.0</td>\n",
       "      <td>6415.64</td>\n",
       "      <td>-672.64</td>\n",
       "    </tr>\n",
       "    <tr>\n",
       "      <th>10</th>\n",
       "      <td>1796.0</td>\n",
       "      <td>1979.12</td>\n",
       "      <td>-183.12</td>\n",
       "    </tr>\n",
       "    <tr>\n",
       "      <th>11</th>\n",
       "      <td>3068.0</td>\n",
       "      <td>2942.55</td>\n",
       "      <td>125.45</td>\n",
       "    </tr>\n",
       "    <tr>\n",
       "      <th>12</th>\n",
       "      <td>4891.0</td>\n",
       "      <td>5057.41</td>\n",
       "      <td>-166.41</td>\n",
       "    </tr>\n",
       "    <tr>\n",
       "      <th>13</th>\n",
       "      <td>5260.0</td>\n",
       "      <td>5194.79</td>\n",
       "      <td>65.21</td>\n",
       "    </tr>\n",
       "    <tr>\n",
       "      <th>14</th>\n",
       "      <td>2133.0</td>\n",
       "      <td>2119.90</td>\n",
       "      <td>13.10</td>\n",
       "    </tr>\n",
       "    <tr>\n",
       "      <th>15</th>\n",
       "      <td>2471.0</td>\n",
       "      <td>2071.21</td>\n",
       "      <td>399.79</td>\n",
       "    </tr>\n",
       "    <tr>\n",
       "      <th>16</th>\n",
       "      <td>2046.0</td>\n",
       "      <td>2288.76</td>\n",
       "      <td>-242.76</td>\n",
       "    </tr>\n",
       "    <tr>\n",
       "      <th>17</th>\n",
       "      <td>8156.0</td>\n",
       "      <td>7655.47</td>\n",
       "      <td>500.53</td>\n",
       "    </tr>\n",
       "    <tr>\n",
       "      <th>18</th>\n",
       "      <td>5362.0</td>\n",
       "      <td>5082.92</td>\n",
       "      <td>279.08</td>\n",
       "    </tr>\n",
       "    <tr>\n",
       "      <th>19</th>\n",
       "      <td>2298.0</td>\n",
       "      <td>2464.23</td>\n",
       "      <td>-166.23</td>\n",
       "    </tr>\n",
       "  </tbody>\n",
       "</table>\n",
       "</div>"
      ],
      "text/plain": [
       "       真实值      预测值       差值\n",
       "0   6606.0  6529.81    76.19\n",
       "1   1550.0  1575.48   -25.48\n",
       "2   3747.0  3440.02   306.98\n",
       "3   6041.0  4954.73  1086.27\n",
       "4   7538.0  7624.75   -86.75\n",
       "5   7264.0  7391.46  -127.46\n",
       "6   1605.0  1461.17   143.83\n",
       "7   2209.0  2070.44   138.56\n",
       "8   7499.0  6913.96   585.04\n",
       "9   5743.0  6415.64  -672.64\n",
       "10  1796.0  1979.12  -183.12\n",
       "11  3068.0  2942.55   125.45\n",
       "12  4891.0  5057.41  -166.41\n",
       "13  5260.0  5194.79    65.21\n",
       "14  2133.0  2119.90    13.10\n",
       "15  2471.0  2071.21   399.79\n",
       "16  2046.0  2288.76  -242.76\n",
       "17  8156.0  7655.47   500.53\n",
       "18  5362.0  5082.92   279.08\n",
       "19  2298.0  2464.23  -166.23"
      ]
     },
     "execution_count": 52,
     "metadata": {},
     "output_type": "execute_result"
    }
   ],
   "source": [
    "data=np.array([y_test,y_predict]).T\n",
    "data\n",
    "dfshow = pd.DataFrame(data=data,columns=['真实值','预测值'])\n",
    "dfshow['差值']=dfshow['真实值']-dfshow['预测值']\n",
    "dfshow.head(20)"
   ]
  },
  {
   "cell_type": "code",
   "execution_count": 5,
   "metadata": {},
   "outputs": [],
   "source": [
    "def fix_tranform_oht(df,col_names):\n",
    "    dic_onehot = {}\n",
    "    for col_name in col_names:\n",
    "        scaler = LabelBinarizer()\n",
    "        returnObj = ft_single(df,scaler,col_name)\n",
    "        dic_onehot[str(returnObj[2])] = returnObj[0]\n",
    "        dic_onehot[\"scaler_\"+str(returnObj[2])] = returnObj[1]\n",
    "    return dic_onehot\n",
    "    \n",
    "\n",
    "\n",
    "def ft_single(df,scaler,col_name):\n",
    "    '''\n",
    "        将某列转化成one-hot编码\n",
    "        返回\n",
    "            df_new：新表\n",
    "            scaler：处理器\n",
    "            col_name：列名            \n",
    "    '''\n",
    "    feature_arr = scaler.fit_transform(df[col_name])\n",
    "    if feature_arr.shape[1] > 1:        \n",
    "        fearure_labels = ['is_'+col_name+'_'+str(cls_label) for cls_label in scaler.classes_]\n",
    "    else:\n",
    "        fearure_labels = ['is_'+col_name]    \n",
    "    df_new = pd.DataFrame(data=feature_arr,columns=fearure_labels)\n",
    "    return df_new,scaler,col_name"
   ]
  },
  {
   "cell_type": "code",
   "execution_count": null,
   "metadata": {},
   "outputs": [],
   "source": []
  }
 ],
 "metadata": {
  "kernelspec": {
   "display_name": "Python 3",
   "language": "python",
   "name": "python3"
  },
  "language_info": {
   "codemirror_mode": {
    "name": "ipython",
    "version": 3
   },
   "file_extension": ".py",
   "mimetype": "text/x-python",
   "name": "python",
   "nbconvert_exporter": "python",
   "pygments_lexer": "ipython3",
   "version": "3.6.2"
  }
 },
 "nbformat": 4,
 "nbformat_minor": 2
}
