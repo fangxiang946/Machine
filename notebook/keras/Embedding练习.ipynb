{
 "cells": [
  {
   "cell_type": "code",
   "execution_count": 2,
   "metadata": {},
   "outputs": [],
   "source": [
    "from keras.models import Model,Sequential\n",
    "from keras.layers import Input,Dense,Embedding,Flatten,recurrent"
   ]
  },
  {
   "cell_type": "code",
   "execution_count": 3,
   "metadata": {},
   "outputs": [],
   "source": [
    "from keras.preprocessing.text import Tokenizer\n",
    "from keras.preprocessing.sequence import pad_sequences\n",
    "import numpy as np"
   ]
  },
  {
   "cell_type": "code",
   "execution_count": 8,
   "metadata": {},
   "outputs": [],
   "source": [
    "path = '../../../data/' #glove词向量目录\n",
    "def load_word2vec(word2vec_dim):\n",
    "    word2vec_dict = dict()\n",
    "    filename = 'glove.6B.%sd.txt'%word2vec_dim\n",
    "    filepath = path + filename\n",
    "    f = open(filepath,encoding='utf-8')\n",
    "    for line in f:\n",
    "        values = line.split()\n",
    "        word = values[0]\n",
    "        coefs = np.array(values[1:], dtype='float32')\n",
    "        word2vec_dict[word] = coefs\n",
    "    f.close()\n",
    "    print('Loaded %s word vectors.' % len(word2vec_dict))\n",
    "    return word2vec_dict\n",
    "\n",
    "def get_embedding_matrix(docs):\n",
    "    tokenizer = Tokenizer()\n",
    "    tokenizer.fit_on_texts(docs)\n",
    "    encoded_docs = tokenizer.texts_to_sequences(docs)\n",
    "    max_length = max([len(seq) for seq in encoded_docs])#最长句子长度\n",
    "    padded_docs = pad_sequences(encoded_docs, maxlen=max_length, padding='post')\n",
    "    \n",
    "    vocab_size = len(tokenizer.word_index)+1\n",
    "    word2vec_dim=50\n",
    "    word2vec_dict = load_word2vec(word2vec_dim)\n",
    "    \n",
    "    embedding_matrix = np.zeros((vocab_size, word2vec_dim))\n",
    "    \n",
    "    for word, i in tokenizer.word_index.items():\n",
    "        embedding_vector = word2vec_dict.get(word)\n",
    "        if embedding_vector is not None:\n",
    "            embedding_matrix[i] = embedding_vector\n",
    "        \n",
    "    return padded_docs,embedding_matrix"
   ]
  },
  {
   "cell_type": "code",
   "execution_count": 9,
   "metadata": {},
   "outputs": [],
   "source": [
    "def create_train_model(padded_docs,labels,embedding_matrix):\n",
    "    _,inputLength = padded_docs.shape\n",
    "    print(inputLength)\n",
    "    inputDim,outputDim = embedding_matrix.shape\n",
    "    print(inputDim,outputDim)\n",
    "    # define model\n",
    "    model = Sequential()\n",
    "    e = Embedding(input_dim=inputDim,input_length=inputLength,output_dim=outputDim, weights=[embedding_matrix], trainable=False)\n",
    "    model.add(e)\n",
    "    model.add(Flatten())\n",
    "    model.add(Dense(1, activation='sigmoid'))\n",
    "    # compile the model\n",
    "    model.compile(optimizer='adam', loss='binary_crossentropy', metrics=['acc'])\n",
    "    # summarize the model\n",
    "    print(model.summary())\n",
    "    # fit the model\n",
    "    model.fit(padded_docs, labels, epochs=20, verbose=0)\n",
    "    # evaluate the model\n",
    "    loss, accuracy = model.evaluate(padded_docs, labels, verbose=0)\n",
    "    print('Accuracy: %f' % (accuracy*100))    \n",
    "    return model"
   ]
  },
  {
   "cell_type": "code",
   "execution_count": 10,
   "metadata": {},
   "outputs": [],
   "source": [
    "def train_model(padded_docs,labels,embedding_matrix):\n",
    "    _,inputLength = padded_docs.shape\n",
    "    print(inputLength)\n",
    "    inputDim,outputDim = embedding_matrix.shape\n",
    "    print(inputDim,outputDim)\n",
    "    # define model\n",
    "    inputs = Input(shape=(inputLength,))\n",
    "    x = Embedding(inputDim,outputDim,weights=[embedding_matrix], trainable=False,mask_zero=True)(inputs)\n",
    "    x = recurrent.LSTM(outputDim)(x)\n",
    "    preds = Dense(1, activation='sigmoid')(x)\n",
    "    \n",
    "    model=Model(inputs,preds)\n",
    "     # compile the model\n",
    "    model.compile(optimizer='adam', loss='binary_crossentropy', metrics=['acc'])\n",
    "    # summarize the model\n",
    "    print(model.summary())\n",
    "    # fit the model\n",
    "    model.fit(padded_docs, labels, epochs=20, verbose=0)\n",
    "    # evaluate the model\n",
    "    loss, accuracy = model.evaluate(padded_docs, labels, verbose=0)\n",
    "    print('Accuracy: %f' % (accuracy*100))    \n",
    "    return model   "
   ]
  },
  {
   "cell_type": "code",
   "execution_count": 87,
   "metadata": {},
   "outputs": [],
   "source": [
    "# define documents\n",
    "docs = ['Well done!',\n",
    "\t\t'Good work',\n",
    "\t\t'Great effort',\n",
    "\t\t'nice work',\n",
    "\t\t'Excellent!',\n",
    "\t\t'Weak',\n",
    "\t\t'Poor effort!',\n",
    "\t\t'not good',\n",
    "\t\t'poor work',\n",
    "\t\t'Could have done better.']\n",
    "# define class labels\n",
    "labels = [1,1,1,1,1,0,0,0,0,0]"
   ]
  },
  {
   "cell_type": "code",
   "execution_count": 123,
   "metadata": {},
   "outputs": [
    {
     "name": "stdout",
     "output_type": "stream",
     "text": [
      "Loaded 400000 word vectors.\n"
     ]
    }
   ],
   "source": [
    "padded_docs,embedding_matrix = get_embedding_matrix(docs)\n"
   ]
  },
  {
   "cell_type": "code",
   "execution_count": 124,
   "metadata": {},
   "outputs": [
    {
     "data": {
      "text/plain": [
       "array([[ 6,  2,  0,  0],\n",
       "       [ 3,  1,  0,  0],\n",
       "       [ 7,  4,  0,  0],\n",
       "       [ 8,  1,  0,  0],\n",
       "       [ 9,  0,  0,  0],\n",
       "       [10,  0,  0,  0],\n",
       "       [ 5,  4,  0,  0],\n",
       "       [11,  3,  0,  0],\n",
       "       [ 5,  1,  0,  0],\n",
       "       [12, 13,  2, 14]])"
      ]
     },
     "execution_count": 124,
     "metadata": {},
     "output_type": "execute_result"
    }
   ],
   "source": [
    "padded_docs"
   ]
  },
  {
   "cell_type": "code",
   "execution_count": 119,
   "metadata": {},
   "outputs": [
    {
     "name": "stdout",
     "output_type": "stream",
     "text": [
      "4\n",
      "15 50\n",
      "Model: \"sequential_14\"\n",
      "_________________________________________________________________\n",
      "Layer (type)                 Output Shape              Param #   \n",
      "=================================================================\n",
      "embedding_19 (Embedding)     (None, 4, 50)             750       \n",
      "_________________________________________________________________\n",
      "flatten_7 (Flatten)          (None, 200)               0         \n",
      "_________________________________________________________________\n",
      "dense_14 (Dense)             (None, 1)                 201       \n",
      "=================================================================\n",
      "Total params: 951\n",
      "Trainable params: 201\n",
      "Non-trainable params: 750\n",
      "_________________________________________________________________\n",
      "None\n",
      "Accuracy: 100.000000\n"
     ]
    },
    {
     "data": {
      "text/plain": [
       "<keras.engine.sequential.Sequential at 0x1f08aeafdd8>"
      ]
     },
     "execution_count": 119,
     "metadata": {},
     "output_type": "execute_result"
    }
   ],
   "source": [
    "create_train_model(padded_docs,labels,embedding_matrix)"
   ]
  },
  {
   "cell_type": "code",
   "execution_count": 132,
   "metadata": {},
   "outputs": [
    {
     "name": "stdout",
     "output_type": "stream",
     "text": [
      "4\n",
      "15 50\n",
      "Model: \"model_7\"\n",
      "_________________________________________________________________\n",
      "Layer (type)                 Output Shape              Param #   \n",
      "=================================================================\n",
      "input_10 (InputLayer)        (None, 4)                 0         \n",
      "_________________________________________________________________\n",
      "embedding_21 (Embedding)     (None, 4, 50)             750       \n",
      "_________________________________________________________________\n",
      "lstm_9 (LSTM)                (None, 50)                20200     \n",
      "_________________________________________________________________\n",
      "dense_16 (Dense)             (None, 1)                 51        \n",
      "=================================================================\n",
      "Total params: 21,001\n",
      "Trainable params: 20,251\n",
      "Non-trainable params: 750\n",
      "_________________________________________________________________\n",
      "None\n",
      "Accuracy: 100.000000\n"
     ]
    },
    {
     "data": {
      "text/plain": [
       "<keras.engine.training.Model at 0x1f08fc63518>"
      ]
     },
     "execution_count": 132,
     "metadata": {},
     "output_type": "execute_result"
    }
   ],
   "source": [
    "train_model(padded_docs,labels,embedding_matrix)"
   ]
  },
  {
   "cell_type": "code",
   "execution_count": 130,
   "metadata": {},
   "outputs": [
    {
     "name": "stdout",
     "output_type": "stream",
     "text": [
      "[[6, 2], [3, 1], [7, 4], [8, 1], [9], [10], [5, 4], [11, 3], [5, 1], [12, 13, 2, 14]]\n"
     ]
    }
   ],
   "source": [
    "tokenizer = Tokenizer()\n",
    "tokenizer.fit_on_texts(docs)\n",
    "encoded_docs = tokenizer.texts_to_sequences(docs)\n",
    "print(encoded_docs)"
   ]
  },
  {
   "cell_type": "code",
   "execution_count": null,
   "metadata": {},
   "outputs": [],
   "source": []
  },
  {
   "cell_type": "code",
   "execution_count": null,
   "metadata": {},
   "outputs": [],
   "source": []
  }
 ],
 "metadata": {
  "kernelspec": {
   "display_name": "Python 3",
   "language": "python",
   "name": "python3"
  },
  "language_info": {
   "codemirror_mode": {
    "name": "ipython",
    "version": 3
   },
   "file_extension": ".py",
   "mimetype": "text/x-python",
   "name": "python",
   "nbconvert_exporter": "python",
   "pygments_lexer": "ipython3",
   "version": "3.6.2"
  }
 },
 "nbformat": 4,
 "nbformat_minor": 2
}
