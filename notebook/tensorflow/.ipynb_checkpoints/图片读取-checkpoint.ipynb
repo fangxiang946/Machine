{
 "cells": [
  {
   "cell_type": "code",
   "execution_count": 2,
   "metadata": {},
   "outputs": [],
   "source": [
    "import tensorflow as tf"
   ]
  },
  {
   "cell_type": "markdown",
   "metadata": {},
   "source": [
    "# 今天就解决一个问题：图片转数组"
   ]
  },
  {
   "cell_type": "markdown",
   "metadata": {},
   "source": [
    "## 1.构造文件名队列\n",
    "## 2.读取与解码\n",
    "## 3.统一数据格式\n",
    "## 4.放入批处理队列\n",
    "## 5.启动线程"
   ]
  },
  {
   "cell_type": "code",
   "execution_count": 5,
   "metadata": {},
   "outputs": [],
   "source": [
    "import os"
   ]
  },
  {
   "cell_type": "code",
   "execution_count": 28,
   "metadata": {},
   "outputs": [
    {
     "name": "stdout",
     "output_type": "stream",
     "text": [
      "ERROR! Session/line number was not unique in database. History logging moved to new session 38\n"
     ]
    }
   ],
   "source": [
    "'''\n",
    "    返回带路径+文件名的列表\n",
    "'''\n",
    "def picture_read():\n",
    "    path = '../../../MyDataSets/pic/mypic'\n",
    "    filenames = os.listdir(path)\n",
    "    #拼接\n",
    "    fullname = [os.path.join(path + \"/\",filename) for filename in filenames]\n",
    "    #print(\"fullname\\n\",fullname)\n",
    "    return fullname"
   ]
  },
  {
   "cell_type": "code",
   "execution_count": 29,
   "metadata": {},
   "outputs": [],
   "source": [
    "'''\n",
    "    图片转数组\n",
    "'''\n",
    "def picture_deal():\n",
    "    file_list = picture_read();\n",
    "    \n",
    "    #1.构造文件名队列\n",
    "    file_queue = tf.train.string_input_producer(file_list)\n",
    "    \n",
    "    #2.读取\n",
    "    reader = tf.WholeFileReader()\n",
    "    key,value = reader.read(file_queue)\n",
    "    \n",
    "    #3.解码\n",
    "    image = tf.image.decode_jpeg(value)\n",
    "    \n",
    "    #4.统一数据格式\n",
    "    image_new = tf.image.resize_images(image,size=[200,200])\n",
    "    #print(\"image\\n\",image)\n",
    "    image_new.set_shape(shape=[200,200,3])\n",
    "    \n",
    "    #5.批处理\n",
    "    image_batch = tf.train.batch([image_new],batch_size=2,num_threads=1,capacity=100)\n",
    "    print(\"image_batch:\\n\",image_batch)\n",
    "    \n",
    "    with tf.Session() as sess:        \n",
    "        #线程管理员\n",
    "        coord = tf.train.Coordinator()\n",
    "        #开启线程\n",
    "        tasks = tf.train.start_queue_runners(sess=sess,coord=coord)\n",
    "        \n",
    "        #执行图\n",
    "        value,image = sess.run([value,image])\n",
    "        print(\"image:\\n\",image)\n",
    "        \n",
    "        #结束并回收线程资源\n",
    "        coord.request_stop()\n",
    "        coord.join(tasks)"
   ]
  },
  {
   "cell_type": "code",
   "execution_count": null,
   "metadata": {},
   "outputs": [
    {
     "name": "stderr",
     "output_type": "stream",
     "text": [
      "Exception in callback BaseAsyncIOLoop._handle_events(1144, 1)\n",
      "handle: <Handle BaseAsyncIOLoop._handle_events(1144, 1)>\n",
      "Traceback (most recent call last):\n",
      "  File \"c:\\users\\fangxiang\\anaconda3\\Lib\\asyncio\\events.py\", line 127, in _run\n",
      "    self._callback(*self._args)\n",
      "  File \"d:\\python环境\\learn\\lib\\site-packages\\tornado\\platform\\asyncio.py\", line 138, in _handle_events\n",
      "    handler_func(fileobj, events)\n",
      "  File \"d:\\python环境\\learn\\lib\\site-packages\\zmq\\eventloop\\zmqstream.py\", line 456, in _handle_events\n",
      "    self._handle_recv()\n",
      "  File \"d:\\python环境\\learn\\lib\\site-packages\\zmq\\eventloop\\zmqstream.py\", line 486, in _handle_recv\n",
      "    self._run_callback(callback, msg)\n",
      "  File \"d:\\python环境\\learn\\lib\\site-packages\\zmq\\eventloop\\zmqstream.py\", line 438, in _run_callback\n",
      "    callback(*args, **kwargs)\n",
      "  File \"d:\\python环境\\learn\\lib\\site-packages\\ipykernel\\iostream.py\", line 120, in _handle_event\n",
      "    event_f()\n",
      "  File \"d:\\python环境\\learn\\lib\\site-packages\\ipykernel\\iostream.py\", line 382, in _flush\n",
      "    parent=self.parent_header, ident=self.topic)\n",
      "  File \"d:\\python环境\\learn\\lib\\site-packages\\jupyter_client\\session.py\", line 737, in send\n",
      "    to_send = self.serialize(msg, ident)\n",
      "  File \"d:\\python环境\\learn\\lib\\site-packages\\jupyter_client\\session.py\", line 625, in serialize\n",
      "    content = self.pack(content)\n",
      "  File \"d:\\python环境\\learn\\lib\\site-packages\\jupyter_client\\session.py\", line 103, in <lambda>\n",
      "    ensure_ascii=False, allow_nan=False,\n",
      "  File \"d:\\python环境\\learn\\lib\\site-packages\\zmq\\utils\\jsonapi.py\", line 43, in dumps\n",
      "    s = s.encode('utf8')\n",
      "UnicodeEncodeError: 'utf-8' codec can't encode character '\\udcce' in position 318: surrogates not allowed\n"
     ]
    },
    {
     "name": "stdout",
     "output_type": "stream",
     "text": [
      "image:\n",
      " [[[255 255 255]\n",
      "  [255 255 255]\n",
      "  [255 255 255]\n",
      "  ...\n",
      "  [ 86  92 104]\n",
      "  [ 81  87  99]\n",
      "  [ 85  91 103]]\n",
      "\n",
      " [[255 255 255]\n",
      "  [255 255 255]\n",
      "  [255 255 255]\n",
      "  ...\n",
      "  [ 86  92 104]\n",
      "  [ 84  90 102]\n",
      "  [ 84  90 102]]\n",
      "\n",
      " [[255 255 255]\n",
      "  [255 255 255]\n",
      "  [255 255 255]\n",
      "  ...\n",
      "  [ 85  91 103]\n",
      "  [ 86  92 104]\n",
      "  [ 84  90 102]]\n",
      "\n",
      " ...\n",
      "\n",
      " [[140 147 153]\n",
      "  [139 146 152]\n",
      "  [135 142 148]\n",
      "  ...\n",
      "  [110 121 125]\n",
      "  [113 124 128]\n",
      "  [112 123 127]]\n",
      "\n",
      " [[141 148 154]\n",
      "  [142 149 155]\n",
      "  [142 149 155]\n",
      "  ...\n",
      "  [110 121 125]\n",
      "  [111 122 126]\n",
      "  [110 121 125]]\n",
      "\n",
      " [[142 149 155]\n",
      "  [142 149 155]\n",
      "  [142 149 155]\n",
      "  ...\n",
      "  [110 121 125]\n",
      "  [108 119 123]\n",
      "  [109 120 124]]]\n"
     ]
    }
   ],
   "source": [
    "picture_deal()"
   ]
  },
  {
   "cell_type": "code",
   "execution_count": null,
   "metadata": {},
   "outputs": [],
   "source": []
  }
 ],
 "metadata": {
  "kernelspec": {
   "display_name": "Python 3",
   "language": "python",
   "name": "python3"
  },
  "language_info": {
   "codemirror_mode": {
    "name": "ipython",
    "version": 3
   },
   "file_extension": ".py",
   "mimetype": "text/x-python",
   "name": "python",
   "nbconvert_exporter": "python",
   "pygments_lexer": "ipython3",
   "version": "3.6.2"
  }
 },
 "nbformat": 4,
 "nbformat_minor": 2
}
