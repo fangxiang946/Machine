{
 "cells": [
  {
   "cell_type": "code",
   "execution_count": 1,
   "metadata": {},
   "outputs": [
    {
     "name": "stderr",
     "output_type": "stream",
     "text": [
      "d:\\python环境\\learn\\lib\\site-packages\\tensorflow\\python\\framework\\dtypes.py:458: FutureWarning: Passing (type, 1) or '1type' as a synonym of type is deprecated; in a future version of numpy, it will be understood as (type, (1,)) / '(1,)type'.\n",
      "  _np_qint8 = np.dtype([(\"qint8\", np.int8, 1)])\n",
      "d:\\python环境\\learn\\lib\\site-packages\\tensorflow\\python\\framework\\dtypes.py:459: FutureWarning: Passing (type, 1) or '1type' as a synonym of type is deprecated; in a future version of numpy, it will be understood as (type, (1,)) / '(1,)type'.\n",
      "  _np_quint8 = np.dtype([(\"quint8\", np.uint8, 1)])\n",
      "d:\\python环境\\learn\\lib\\site-packages\\tensorflow\\python\\framework\\dtypes.py:460: FutureWarning: Passing (type, 1) or '1type' as a synonym of type is deprecated; in a future version of numpy, it will be understood as (type, (1,)) / '(1,)type'.\n",
      "  _np_qint16 = np.dtype([(\"qint16\", np.int16, 1)])\n",
      "d:\\python环境\\learn\\lib\\site-packages\\tensorflow\\python\\framework\\dtypes.py:461: FutureWarning: Passing (type, 1) or '1type' as a synonym of type is deprecated; in a future version of numpy, it will be understood as (type, (1,)) / '(1,)type'.\n",
      "  _np_quint16 = np.dtype([(\"quint16\", np.uint16, 1)])\n",
      "d:\\python环境\\learn\\lib\\site-packages\\tensorflow\\python\\framework\\dtypes.py:462: FutureWarning: Passing (type, 1) or '1type' as a synonym of type is deprecated; in a future version of numpy, it will be understood as (type, (1,)) / '(1,)type'.\n",
      "  _np_qint32 = np.dtype([(\"qint32\", np.int32, 1)])\n",
      "d:\\python环境\\learn\\lib\\site-packages\\tensorflow\\python\\framework\\dtypes.py:465: FutureWarning: Passing (type, 1) or '1type' as a synonym of type is deprecated; in a future version of numpy, it will be understood as (type, (1,)) / '(1,)type'.\n",
      "  np_resource = np.dtype([(\"resource\", np.ubyte, 1)])\n"
     ]
    }
   ],
   "source": [
    "import tensorflow as tf"
   ]
  },
  {
   "cell_type": "markdown",
   "metadata": {},
   "source": [
    "## 第一部分 简单操作\n",
    " +  常量加减法\n",
    " +  命名空间\n",
    " +  会话\n",
    " +  多值run"
   ]
  },
  {
   "cell_type": "code",
   "execution_count": 2,
   "metadata": {},
   "outputs": [],
   "source": [
    "def demo():\n",
    "    with tf.variable_scope(\"constant\"):\n",
    "        a = tf.constant(2,name=\"a\")\n",
    "        b = tf.constant(3,name=\"b\")\n",
    "        c = tf.constant(4,name=\"c\")\n",
    "        print(\"a:\",a)\n",
    "\n",
    "    with tf.variable_scope(\"op\"):\n",
    "        s1 = tf.add(a,b)\n",
    "        s2 = tf.subtract(c,a)\n",
    "        print(\"s1:\",s1)\n",
    "    #s2 = tf.sub(s1,c)\n",
    "\n",
    "    with tf.Session() as sess:\n",
    "        result1,result2 = sess.run([s1,s2])\n",
    "        print(\"result1=\",result1)\n",
    "        print(\"result2=\",result2)\n",
    "        print(\"图的信息:\",sess.graph)\n",
    "        tf.summary.FileWriter(\"./temp/summary\",graph=sess.graph)"
   ]
  },
  {
   "cell_type": "markdown",
   "metadata": {},
   "source": [
    "## 第二部分   tensorboard展示出来\n",
    "\n",
    "+  1.序列化保存成文件（events文件）\n",
    "+  2.用tensorboard展示"
   ]
  },
  {
   "cell_type": "code",
   "execution_count": 14,
   "metadata": {},
   "outputs": [],
   "source": [
    "with tf.Session() as sess:\n",
    "    tf.summary.FileWriter(\"./temp/summary\",graph=sess.graph)"
   ]
  },
  {
   "cell_type": "code",
   "execution_count": 3,
   "metadata": {},
   "outputs": [
    {
     "name": "stdout",
     "output_type": "stream",
     "text": [
      "a: Tensor(\"constant/a:0\", shape=(), dtype=int32)\n",
      "s1: Tensor(\"op/Add:0\", shape=(), dtype=int32)\n",
      "result1= 5\n",
      "result2= 2\n",
      "图的信息: <tensorflow.python.framework.ops.Graph object at 0x000001DA791D40F0>\n"
     ]
    }
   ],
   "source": [
    "demo()"
   ]
  },
  {
   "cell_type": "code",
   "execution_count": 4,
   "metadata": {},
   "outputs": [],
   "source": [
    "def demo2():\n",
    "    with tf.variable_scope(\"constant\"):\n",
    "        a = tf.random_normal(shape=[1,1])\n",
    "        b = tf.constant(3,name=\"b\")\n",
    "        c = tf.constant(4,name=\"c\")\n",
    "        print(\"a:\",a)\n",
    "\n",
    "    with tf.variable_scope(\"op1\"):\n",
    "        s1 = tf.add(c,b)        \n",
    "        print(\"s1:\",s1)\n",
    "\n",
    "    with tf.variable_scope(\"op2\"):\n",
    "        s2 = tf.subtract(c,b)\n",
    "        print(\"s2:\",s2)\n",
    "            \n",
    "    with tf.Session() as sess:\n",
    "        result1,result2 = sess.run([s1,s2])\n",
    "        print(\"result1=\",result1)\n",
    "        print(\"result2=\",result2)\n",
    "        print(\"图的信息:\",sess.graph)\n",
    "        tf.summary.FileWriter(\"./temp/summary\",graph=sess.graph)"
   ]
  },
  {
   "cell_type": "code",
   "execution_count": 5,
   "metadata": {},
   "outputs": [
    {
     "name": "stdout",
     "output_type": "stream",
     "text": [
      "a: Tensor(\"constant_1/random_normal:0\", shape=(1, 1), dtype=float32)\n",
      "s1: Tensor(\"op1/Add:0\", shape=(), dtype=int32)\n",
      "s2: Tensor(\"op2/Sub:0\", shape=(), dtype=int32)\n",
      "result1= 7\n",
      "result2= 1\n",
      "图的信息: <tensorflow.python.framework.ops.Graph object at 0x000001DA791D40F0>\n"
     ]
    }
   ],
   "source": [
    "demo2()"
   ]
  }
 ],
 "metadata": {
  "kernelspec": {
   "display_name": "Python 3",
   "language": "python",
   "name": "python3"
  },
  "language_info": {
   "codemirror_mode": {
    "name": "ipython",
    "version": 3
   },
   "file_extension": ".py",
   "mimetype": "text/x-python",
   "name": "python",
   "nbconvert_exporter": "python",
   "pygments_lexer": "ipython3",
   "version": "3.6.2"
  }
 },
 "nbformat": 4,
 "nbformat_minor": 2
}
